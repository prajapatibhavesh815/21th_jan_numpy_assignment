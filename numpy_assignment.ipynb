{
 "cells": [
  {
   "cell_type": "markdown",
   "metadata": {},
   "source": [
    "1. What is a Python library? Why do we use Python libraries?"
   ]
  },
  {
   "cell_type": "markdown",
   "metadata": {},
   "source": [
    "A python library is a collection of pre-written code and functions that can be reused by developers to perform common tasks. These libraries contain modules and packages that provide specific functinalities ,maj=king it easier for devlopers to implement complex operations without having to write the code from scratch.\n",
    "\n",
    ">>python libraries serve several purpose:\n",
    "\n",
    "1. Code Reusability:\n",
    "                    libraries alloww developers to reuse existing code,saving time and effort. instead of writing code for common tasks, developers can simply imporrt a library and use its functions.\n",
    "2. Modularity:\n",
    "              Libraries are modular,meaning they are organized into modules or packages that focus on specific functionalities. This modularity\n",
    "              enhances code organization and maintainability.\n",
    "\n",
    "3. Efficiency:\n",
    "               Libraries are typically optimized and well-tested, providing efficient and reliable solutions to common problems. This allows developers to benefit from the expertise of others without having to reinvent the wheel.\n",
    "\n",
    "4. Community Contribution: \n",
    "                          Python has a large and active community of developers who contribute to the creation and improvement of libraries. This collaborative effort results in a wide range of high-quality libraries covering various domains.\n",
    "\n",
    "5.Rapid Development:\n",
    "                    Using libraries can significantly speed up the development process. Developers can leverage existing solutions to build applications faster, reducing development time and costs.\n",
    "\n",
    "6.Cross-Platform Compatibility:\n",
    "                             Many Python libraries are designed to be cross-platform, making it easier to write code that can run on different operating systems without modification.\n",
    "\n",
    "Examples of popular Python libraries include NumPy for numerical computing, pandas for data manipulation and analysis, Matplotlib for data visualization, requests for handling HTTP requests, and TensorFlow for machine learning, among many others."
   ]
  },
  {
   "cell_type": "markdown",
   "metadata": {},
   "source": [
    "2. What is the difference between Numpy array and List?"
   ]
  },
  {
   "cell_type": "markdown",
   "metadata": {},
   "source": [
    "NumPy arrays and Python lists are both used to store and manipulate collections of data, but they have several key differences:\n",
    "\n",
    "1.Data Type:\n",
    "\n",
    "      >      In a Python list, elements can be of different data types, and   you can have a mix of integers, floats, strings, etc.\n",
    "      >      In a NumPy array, all elements must be of the same data type. This homogeneity allows for more efficient storage and operations on the data.\n",
    "2.Performance:\n",
    "\n",
    "      >      NumPy arrays are more efficient in terms of memory and performance compared to Python lists. NumPy is implemented in C and optimized for numerical operations, making it faster for large datasets and mathematical computations.\n",
    "      >      Lists are more flexible but may be slower for numerical operations due to their dynamic typing and less optimized structure.\n",
    "\n",
    "3.Functionality:\n",
    "\n",
    "       >     NumPy provides a wide range of mathematical functions and operations that can be applied directly to arrays. These operations are vectorized, meaning they operate on entire arrays without the need for explicit looping.\n",
    "        >    Lists have fewer built-in operations for mathematical operations, and performing operations on individual elements often requires explicit loops.\n",
    "4.Syntax:\n",
    "\n",
    "       >     NumPy arrays support a more concise and expressive syntax for mathematical operations. For example, you can perform element-wise addition on NumPy arrays directly, while with lists, you would need to use a loop or list comprehension.\n",
    "       >   Lists are more general-purpose and have a simpler syntax for basic operations.\n",
    "\n",
    "Here's a brief example illustrating some of these differences:\n",
    "# Using Python lists\n",
    "python_list = [1, 2, 3, 4]\n",
    "python_list_squared = [x**2 for x in python_list]\n",
    "\n",
    "# Using NumPy arrays\n",
    "import numpy as np\n",
    "\n",
    "numpy_array = np.array([1, 2, 3, 4])\n",
    "numpy_array_squared = numpy_array**2\n",
    "\n",
    "in this example, the NumPy array allows for a more concise and efficient way to perform element-wise squaring compared to the Python list.\n",
    "\n",
    "\n",
    "\n",
    "\n",
    "\n",
    "\n",
    "\n",
    "\n"
   ]
  },
  {
   "cell_type": "markdown",
   "metadata": {},
   "source": [
    "3. Find the shape, size and dimension of the following array?\n",
    "\n",
    "\n",
    "[[1, 2, 3, 4]\n",
    "\n",
    "[5, 6, 7, 8],\n",
    "\n",
    "[9, 10, 11, 12]]"
   ]
  },
  {
   "cell_type": "code",
   "execution_count": 1,
   "metadata": {},
   "outputs": [
    {
     "name": "stdout",
     "output_type": "stream",
     "text": [
      "Shape: (3, 4)\n",
      "Size: 12\n",
      "Dimension: 2\n"
     ]
    }
   ],
   "source": [
    "import numpy as np \n",
    "\n",
    "#Given array\n",
    "arr = np.array([[1,2,3,4],\n",
    "                [5,6,7,8],\n",
    "                [9,10,11,12]])\n",
    "\n",
    "#shap of the array\n",
    "shape = arr.shape\n",
    "\n",
    "#Size of the array(total number of elements)\n",
    "size = arr.size\n",
    "\n",
    "#Dimension of the array\n",
    "Dimension = arr.ndim\n",
    "\n",
    "print(\"Shape:\" , shape)\n",
    "print(\"Size:\",size)\n",
    "print(\"Dimension:\",Dimension)"
   ]
  },
  {
   "cell_type": "markdown",
   "metadata": {},
   "source": [
    "4. Write python code to access the first row of the following array?\n",
    "\n",
    "[[1, 2, 3, 4]\n",
    "\n",
    "[5, 6, 7, 8],\n",
    "\n",
    "[9, 10, 11, 12]]"
   ]
  },
  {
   "cell_type": "code",
   "execution_count": 4,
   "metadata": {},
   "outputs": [
    {
     "name": "stdout",
     "output_type": "stream",
     "text": [
      "First Row: [1 2 3 4]\n"
     ]
    }
   ],
   "source": [
    "import numpy as np\n",
    "\n",
    "#Given array\n",
    "arr = np.array([[1,2,3,4],\n",
    "                [5,6,7,8],\n",
    "                [9,10,11,12]])\n",
    "# Access the first row\n",
    "first_row  = arr[0,:]\n",
    "\n",
    "print(\"First Row:\",first_row)"
   ]
  },
  {
   "cell_type": "markdown",
   "metadata": {},
   "source": [
    "5. How do you access the element at the third row and fourth column from the given numpy array?\n",
    "\n",
    "[[1, 2, 3, 4]\n",
    "\n",
    "[5, 6, 7, 8],\n",
    "\n",
    "[9, 10, 11, 12]]"
   ]
  },
  {
   "cell_type": "code",
   "execution_count": 5,
   "metadata": {},
   "outputs": [
    {
     "name": "stdout",
     "output_type": "stream",
     "text": [
      "Element at the third row and fourth column: 12\n"
     ]
    }
   ],
   "source": [
    "import numpy as np\n",
    "\n",
    "#Given array\n",
    "arr= np.array([[1,2,3,4],\n",
    "               [5,6,7,8],\n",
    "               [9,10,11,12]])\n",
    "\n",
    "# Access the element at the third row and fourth column\n",
    "\n",
    "element = arr[2,3]\n",
    "\n",
    "\n",
    "print(\"Element at the third row and fourth column:\",element)"
   ]
  },
  {
   "cell_type": "markdown",
   "metadata": {},
   "source": [
    "6. Write code to extract all odd-indexed elements from the given numpy array?\n",
    "\n",
    "[[1, 2, 3, 4]\n",
    "\n",
    "[5, 6, 7, 8],\n",
    "\n",
    "[9, 10, 11, 12]]"
   ]
  },
  {
   "cell_type": "code",
   "execution_count": 6,
   "metadata": {},
   "outputs": [
    {
     "name": "stdout",
     "output_type": "stream",
     "text": [
      "[[ 2  4]\n",
      " [ 6  8]\n",
      " [10 12]]\n"
     ]
    }
   ],
   "source": [
    "import numpy as np\n",
    "\n",
    "#Given array\n",
    "\n",
    "arr = np.array([[1,2,3,4],\n",
    "                [5,6,7,8],\n",
    "                [9,10,11,12]])\n",
    "\n",
    "#Extract all odd-indexed elements\n",
    "\n",
    "odd_indexed_elements = arr[:,1::2]\n",
    "\n",
    "print(odd_indexed_elements)"
   ]
  },
  {
   "cell_type": "markdown",
   "metadata": {},
   "source": [
    "7. How can you generate a random 3x3 matrix with values between 0 and 1?"
   ]
  },
  {
   "cell_type": "code",
   "execution_count": 7,
   "metadata": {},
   "outputs": [
    {
     "name": "stdout",
     "output_type": "stream",
     "text": [
      "Random 3*3 matrix:\n",
      "[[0.62821374 0.99714206 0.19363894]\n",
      " [0.60719718 0.21744158 0.99974401]\n",
      " [0.98989641 0.39740901 0.02154949]]\n"
     ]
    }
   ],
   "source": [
    "import numpy as np\n",
    "# Generate a random 3*3 matrix with values between 0 and 1\n",
    "\n",
    "random_matrix = np.random.rand(3,3)\n",
    "\n",
    "print(\"Random 3*3 matrix:\")\n",
    "print(random_matrix)"
   ]
  },
  {
   "cell_type": "markdown",
   "metadata": {},
   "source": [
    "8. Describe the difference between np.random.rand and np.random.randn?"
   ]
  },
  {
   "cell_type": "markdown",
   "metadata": {},
   "source": [
    "The NumPy functions np.random.rand and np.random.randn are both used to generate random numbers, but they differ in terms of the distribution of the generated values:\n",
    "\n",
    "1.np.random.rand:\n",
    "\n",
    "   > This function generates random values from a uniform distribution over the interval [0, 1).\n",
    "   > The generated numbers are uniformly distributed between 0 (inclusive) and 1(exclusive).\n",
    "   > The syntax is np.random.rand(d0, d1, ..., dn) where d0, d1, ..., dn are the dimensions of the output array.\n",
    "\n",
    "Example:\n",
    "import numpy as np\n",
    "\n",
    "random_values = np.random.rand(2, 3)\n",
    "\n",
    "2.np.random.randn:\n",
    "\n",
    "    > This function generates random values from a standard normal distribution (mean=0, standard deviation=1).\n",
    "    > The generated numbers are not uniformly distributed; instead, they follow a Gaussian distribution (bell-shaped curve).\n",
    "    >  The syntax is np.random.randn(d0, d1, ..., dn) where d0, d1, ..., dn are the dimensions of the output array.\n",
    "\n",
    "Example:\n",
    "import numpy as np\n",
    "\n",
    "random_values = np.random.randn(2, 3)\n",
    "\n"
   ]
  },
  {
   "cell_type": "markdown",
   "metadata": {},
   "source": [
    "9. Write code to increase the dimension of the following array?\n",
    "\n",
    "[[1, 2, 3, 4]\n",
    "\n",
    "[5, 6, 7, 8],\n",
    "\n",
    "[9, 10, 11, 12]]"
   ]
  },
  {
   "cell_type": "code",
   "execution_count": 14,
   "metadata": {},
   "outputs": [
    {
     "name": "stdout",
     "output_type": "stream",
     "text": [
      "Original Array:\n",
      "[[ 1  2  3  4]\n",
      " [ 5  6  7  8]\n",
      " [ 9 10 11 12]]\n",
      "\n",
      "Array with Increased Dimension:\n",
      "[[[ 1]\n",
      "  [ 2]\n",
      "  [ 3]\n",
      "  [ 4]]\n",
      "\n",
      " [[ 5]\n",
      "  [ 6]\n",
      "  [ 7]\n",
      "  [ 8]]\n",
      "\n",
      " [[ 9]\n",
      "  [10]\n",
      "  [11]\n",
      "  [12]]]\n"
     ]
    }
   ],
   "source": [
    "import numpy as np\n",
    "#Given array\n",
    "\n",
    "arr = np.array([[1,2,3,4],\n",
    "                [5,6,7,8],\n",
    "                [9,10,11,12]])\n",
    "\n",
    "# Increase the dimension using np.expand_dims\n",
    "expand_arr = np.expand_dims(arr,axis=2)\n",
    "\n",
    "print(\"Original Array:\")\n",
    "print(arr)\n",
    "\n",
    "print(\"\\nArray with Increased Dimension:\")\n",
    "print(expand_arr)"
   ]
  },
  {
   "cell_type": "markdown",
   "metadata": {},
   "source": [
    "10. How to transpose the following array in NumPy?\n",
    "\n",
    "[[1, 2, 3, 4]\n",
    "\n",
    "[5, 6, 7, 8],\n",
    "\n",
    "[9, 10, 11, 12]]"
   ]
  },
  {
   "cell_type": "code",
   "execution_count": 16,
   "metadata": {},
   "outputs": [
    {
     "name": "stdout",
     "output_type": "stream",
     "text": [
      "Original Array:\n",
      "[[ 1  2  3  4]\n",
      " [ 5  6  7  8]\n",
      " [ 9 10 11 12]]\n",
      "\n",
      "Transpose Array (using np.transpose):\n",
      "[[ 1  5  9]\n",
      " [ 2  6 10]\n",
      " [ 3  7 11]\n",
      " [ 4  8 12]]\n",
      "\n",
      "Transpose Array (using .T attribute):\n",
      "[[ 1  5  9]\n",
      " [ 2  6 10]\n",
      " [ 3  7 11]\n",
      " [ 4  8 12]]\n"
     ]
    }
   ],
   "source": [
    "import numpy as np\n",
    "\n",
    "#Given array\n",
    "arr = np.array([[1,2,3,4],\n",
    "                [5,6,7,8],\n",
    "                [9,10,11,12]])\n",
    "\n",
    "#transpose the array using numpy.transpose\n",
    "transposed_arr_1 = np.transpose(arr)\n",
    "\n",
    "#Transpose the array using the .T attribute\n",
    "transposed_arr_2 = arr.T\n",
    "\n",
    "print(\"Original Array:\")\n",
    "print(arr)\n",
    "\n",
    "print(\"\\nTranspose Array (using np.transpose):\")\n",
    "print(transposed_arr_1)\n",
    "\n",
    "print(\"\\nTranspose Array (using .T attribute):\")\n",
    "print(transposed_arr_2)"
   ]
  },
  {
   "cell_type": "markdown",
   "metadata": {},
   "source": [
    "11. Consider the following matrix:\n",
    "\n",
    "Matrix A2 [[1, 2, 3, 4] [5, 6, 7, 8],[9, 10, 11, 12]]\n",
    "\n",
    "Matrix B2 [[1, 2, 3, 4] [5, 6, 7, 8],[9, 10, 11, 12]]\n",
    "\n",
    "Perform the following operation using Python:\n",
    "\n",
    "1.Index wise multiplication\n",
    "\n",
    "2. Matrix multiplication\n",
    "\n",
    "3. Add both the matrics\n",
    "\n",
    "4. Subtact matrix B from a\n",
    " \n",
    "5. Divide Matrix B by A"
   ]
  },
  {
   "cell_type": "code",
   "execution_count": 18,
   "metadata": {},
   "outputs": [
    {
     "name": "stdout",
     "output_type": "stream",
     "text": [
      "1. Index wise multiplication:\n",
      "[[  1   4   9  16]\n",
      " [ 25  36  49  64]\n",
      " [ 81 100 121 144]]\n",
      "\n",
      "2. Matrix multiplication:\n",
      "[[ 30  70 110]\n",
      " [ 70 174 278]\n",
      " [110 278 446]]\n",
      "\n",
      "3. Matrix addition:\n",
      "[[ 2  4  6  8]\n",
      " [10 12 14 16]\n",
      " [18 20 22 24]]\n",
      "\n",
      "4. Matrix subtraction:\n",
      "[[0 0 0 0]\n",
      " [0 0 0 0]\n",
      " [0 0 0 0]]\n",
      "\n",
      "5. Matrix division:\n",
      "[[1. 1. 1. 1.]\n",
      " [1. 1. 1. 1.]\n",
      " [1. 1. 1. 1.]]\n"
     ]
    }
   ],
   "source": [
    "import numpy as np\n",
    "\n",
    "#Given matrices\n",
    "A = np.array([[1,2,3,4],\n",
    "              [5,6,7,8],\n",
    "              [9,10,11,12]])\n",
    "\n",
    "B = np.array([[1,2,3,4],\n",
    "              [5,6,7,8],\n",
    "              [9,10,11,12]])\n",
    "\n",
    "# 1. Index wise multiplication\n",
    "index_wise_multiplication = A*B\n",
    "\n",
    "#2. matrix multiplication\n",
    "matrix_multiplication = np.dot(A,B.T)# assuming you want to multiply A by the transpose of B\n",
    "\n",
    "#3.Add both matrices\n",
    "matrix_addition = A+B\n",
    "\n",
    "#4. subtract matrix B from A\n",
    "matrix_subtraction = A-B\n",
    "\n",
    "#5. Divide matrix B by A\n",
    "matrix_division = B/A\n",
    "\n",
    "#Print the results\n",
    "\n",
    "print(\"1. Index wise multiplication:\")\n",
    "print(index_wise_multiplication)\n",
    "\n",
    "print(\"\\n2. Matrix multiplication:\")\n",
    "print(matrix_multiplication)\n",
    "\n",
    "print(\"\\n3. Matrix addition:\")\n",
    "print(matrix_addition)\n",
    "\n",
    "print(\"\\n4. Matrix subtraction:\")\n",
    "print(matrix_subtraction)\n",
    "\n",
    "print(\"\\n5. Matrix division:\")\n",
    "print(matrix_division)"
   ]
  },
  {
   "cell_type": "markdown",
   "metadata": {},
   "source": [
    "12. Which function in Numpy can be used to swap the byte order of an array?"
   ]
  },
  {
   "cell_type": "code",
   "execution_count": 19,
   "metadata": {},
   "outputs": [
    {
     "name": "stdout",
     "output_type": "stream",
     "text": [
      "Array with byte order swapped:\n",
      "[16777216    65536      256]\n"
     ]
    }
   ],
   "source": [
    "import numpy as np\n",
    "# Create an array with some data\n",
    "\n",
    "arr = np.array([1,256,65536],dtype = np.int32)\n",
    "\n",
    "# swap the byte order\n",
    "arr.byteswap(True)\n",
    "\n",
    "print(\"Array with byte order swapped:\")\n",
    "print(arr)"
   ]
  },
  {
   "cell_type": "markdown",
   "metadata": {},
   "source": [
    "13. What is the significance of the np.linalg.inv function?"
   ]
  },
  {
   "cell_type": "markdown",
   "metadata": {},
   "source": [
    "Here are some key points regarding the significance of np.linalg.inv:\n",
    "\n",
    "1.Solving Linear Equations: One of the primary uses of matrix inversion is in  solving systems of linear equations. Given a system of linear equations represented as Ax = b, where A is a coefficient matrix, x is the vector of unknowns, and b is the constant vector, the solution x can be obtained as x =A-1busing matrix inversion.\n",
    "\n",
    "2.Determinant Calculation: The determinant of a matrix is a scalar value that represents various properties of the matrix. The determinant can be computed using matrix inversion as det (A)=1/det(A 1).\n",
    "\n",
    "3.Eigenvalue and Eigenvector Calculation: In some cases, matrix inversion is used in the computation of eigenvalues and eigenvectors, which are crucial in various mathematical and scientific applications, including principal component analysis (PCA) and solving differential equations.\n",
    "\n",
    "4.Pseudoinverse Calculation: In cases where the matrix is not square or not invertible, the pseudoinverse can be computed using methods like the Moore-Penrose pseudoinverse, which involves matrix inversion. The pseudoinverse is useful in solving least squares problems and in various other contexts.\n",
    "\n",
    "5.Matrix Operations: Matrix inversion is a fundamental operation in linear algebra and is used in various matrix operations and transformations."
   ]
  },
  {
   "cell_type": "markdown",
   "metadata": {},
   "source": [
    "14. What does the np.reshape function do, and how is it used?"
   ]
  },
  {
   "cell_type": "code",
   "execution_count": 21,
   "metadata": {},
   "outputs": [
    {
     "name": "stdout",
     "output_type": "stream",
     "text": [
      "original array:\n",
      "[1 2 3 4 5 6]\n",
      "\n",
      "Reshaped array:\n",
      "[[1 2 3]\n",
      " [4 5 6]]\n"
     ]
    }
   ],
   "source": [
    "#The np.reshape function in NumPy is used to change the shape of an array without changing its data. It returns a new array with the specified shape while maintaining the same data. This function is particularly useful when you need to alter the dimensions of an array to match the requirements of a particular operation or algorithm.\n",
    "\n",
    "#Here's how the np.reshape function works and how it is used:\n",
    "\n",
    "#1.Syntax:\n",
    "#numpy.reshape(a, newshape, order='C')\n",
    "\n",
    "#>> a: The array to be reshaped.\n",
    "#>> newshape: The new shape to which the array should be reshaped. It can be specified as a tuple of integers or as separate integer arguments. One of the dimensions can be set to -1, in which case it will be inferred from the length of the array and the remaining dimensions.\n",
    "#>> order: Optional parameter specifying the order in which the elements should be read from the original array when constructing the reshaped array. It can be 'C' (row-major) or 'F' (column-major). The default is 'C'.\n",
    "\n",
    "#2. Example:\n",
    "import numpy as np\n",
    "#original array\n",
    "arr = np.array([1,2,3,4,5,6])\n",
    "\n",
    "#Reshaped the array to a 2*3 matrix\n",
    "reshaped_arr = np.reshape(arr,(2,3))\n",
    "\n",
    "print(\"original array:\")\n",
    "print(arr)\n",
    "\n",
    "print(\"\\nReshaped array:\")\n",
    "print(reshaped_arr)\n"
   ]
  },
  {
   "cell_type": "markdown",
   "metadata": {},
   "source": [
    "15. What is broadcasting in Numpy?"
   ]
  },
  {
   "cell_type": "code",
   "execution_count": 22,
   "metadata": {},
   "outputs": [
    {
     "name": "stdout",
     "output_type": "stream",
     "text": [
      "Scalar Broadcasting:\n",
      "[11 12 13]\n",
      "\n",
      "Array Broadcasting:\n",
      "[[11 22 33]\n",
      " [14 25 36]]\n"
     ]
    }
   ],
   "source": [
    "#Broadcasting in NumPy is a powerful mechanism that allows arrays of different\n",
    " #shapes to be combined in arithmetic operations. When performing operations \n",
    "#involving arrays with different shapes, NumPy automatically \"broadcasts\" the \n",
    "#arrays to make their shapes compatible. This means that NumPy adjusts the \n",
    "#dimensions of the arrays to make them compatible for element-wise operations, \n",
    "#without the need for explicit looping over the arrays.\n",
    "\n",
    "#The broadcasting rules in NumPy are as follows:\n",
    "\n",
    "#Rule 1: If the arrays do not have the same number of dimensions, the shape of \n",
    "#the array with fewer dimensions is padded with ones on its leading (left) \n",
    "#side.\n",
    "\n",
    "#Rule 2: If the shape of the arrays does not match in any dimension, the array \n",
    "#with shape equal to 1 in that dimension is stretched to match the shape of \n",
    "#the other array.\n",
    "\n",
    "#Rule 3: If in any dimension the sizes disagree and neither is equal to 1, an\n",
    " #error is raised.\n",
    "\n",
    "#Broadcasting allows for more concise and readable code and eliminates the\n",
    " #need for explicit looping, resulting in more efficient computation. \n",
    "#It enables operations like adding a scalar to an array, adding arrays with \n",
    "#different shapes, and performing other element-wise operations on arrays of \n",
    "#different shapes.\n",
    "\n",
    "#Here's a simple example to illustrate broadcasting:\n",
    "\n",
    "import numpy as np\n",
    "\n",
    "# Scalar broadcasting\n",
    "arr1 = np.array([1, 2, 3])\n",
    "scalar = 10\n",
    "result1 = arr1 + scalar\n",
    "\n",
    "# Array broadcasting\n",
    "arr2 = np.array([[1, 2, 3],\n",
    "                 [4, 5, 6]])\n",
    "arr3 = np.array([10, 20, 30])\n",
    "result2 = arr2 + arr3\n",
    "\n",
    "print(\"Scalar Broadcasting:\")\n",
    "print(result1)\n",
    "\n",
    "print(\"\\nArray Broadcasting:\")\n",
    "print(result2)\n"
   ]
  }
 ],
 "metadata": {
  "kernelspec": {
   "display_name": "base",
   "language": "python",
   "name": "python3"
  },
  "language_info": {
   "codemirror_mode": {
    "name": "ipython",
    "version": 3
   },
   "file_extension": ".py",
   "mimetype": "text/x-python",
   "name": "python",
   "nbconvert_exporter": "python",
   "pygments_lexer": "ipython3",
   "version": "3.11.5"
  }
 },
 "nbformat": 4,
 "nbformat_minor": 2
}
